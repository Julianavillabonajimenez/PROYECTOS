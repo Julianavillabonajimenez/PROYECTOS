{
  "nbformat": 4,
  "nbformat_minor": 0,
  "metadata": {
    "colab": {
      "name": "Untitled3.ipynb",
      "provenance": [],
      "authorship_tag": "ABX9TyPbmwauh8XV4Efwachz8uu+",
      "include_colab_link": true
    },
    "kernelspec": {
      "name": "python3",
      "display_name": "Python 3"
    },
    "language_info": {
      "name": "python"
    }
  },
  "cells": [
    {
      "cell_type": "markdown",
      "metadata": {
        "id": "view-in-github",
        "colab_type": "text"
      },
      "source": [
        "<a href=\"https://colab.research.google.com/github/Julianavillabonajimenez/PROYECTOS/blob/main/Untitled3.ipynb\" target=\"_parent\"><img src=\"https://colab.research.google.com/assets/colab-badge.svg\" alt=\"Open In Colab\"/></a>"
      ]
    },
    {
      "cell_type": "code",
      "execution_count": 40,
      "metadata": {
        "id": "P2lEFXrAtXxH",
        "colab": {
          "base_uri": "https://localhost:8080/"
        },
        "outputId": "80b2e8cf-b447-4f97-ef9a-4d74cf01d85c"
      },
      "outputs": [
        {
          "output_type": "stream",
          "name": "stdout",
          "text": [
            "Ingrese el primer valor:  20\n",
            "Ingrese el segundo valor:  30\n",
            "resultado de la suma  50\n"
          ]
        }
      ],
      "source": [
        "valor_1 = int (input(\"Ingrese el primer valor:  \"))\n",
        "valor_2 = int (input(\"Ingrese el segundo valor:  \"))\n",
        "def suma(valor_1, valor_2):\n",
        "      calculo = valor_1 + valor_2\n",
        "\n",
        "      return { \n",
        "    \n",
        "    \"sumatoria\": calculo,\n",
        "\n",
        "}\n",
        "\n",
        "result = suma(valor_1, valor_2) \n",
        "sumatoria = result.get(\"sumatoria\")\n",
        "\n",
        "\n",
        "print (\"resultado de la suma \", sumatoria)\n"
      ]
    }
  ]
}